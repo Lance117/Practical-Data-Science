{
 "cells": [
  {
   "cell_type": "code",
   "execution_count": 1,
   "metadata": {},
   "outputs": [],
   "source": [
    "# setup library imports\n",
    "import io, time, json\n",
    "import requests\n",
    "from bs4 import BeautifulSoup"
   ]
  },
  {
   "cell_type": "markdown",
   "metadata": {},
   "source": [
    "### Library Documentation\n",
    "\n",
    "* Standard Library: \n",
    "    * [io](https://docs.python.org/2/library/io.html)\n",
    "    * [time](https://docs.python.org/2/library/time.html)\n",
    "    * [json](https://docs.python.org/2/library/json.html)\n",
    "\n",
    "* Third Party\n",
    "    * [requests](http://docs.python-requests.org/en/master/)\n",
    "    * [Beautiful Soup (version 4)](https://www.crummy.com/software/BeautifulSoup/bs4/doc/)\n",
    "    * [yelp-fusion](https://www.yelp.com/developers/documentation/v3/get_started)\n",
    "\n",
    "**Note:** You may come across a `yelp-python` library online. The library is deprecated and incompatible with the current Yelp API, so do not use the library."
   ]
  },
  {
   "cell_type": "markdown",
   "metadata": {},
   "source": [
    "## Introduction\n",
    "\n",
    "Welcome to the homework on web scraping. While many people might view working with data (including scraping, parsing, storing, etc.) a necessary evil to get to the \"fun\" stuff (i.e. modeling), I think that if presented in the right way this munging can be quite empowering. Imagine you never had to worry or ask those _what if_ questions about data existing or being accessible... but that you can get it yourself!\n",
    "\n",
    "By the end of this exercise hopefully you should look at the wonderful world wide web without fear, comforted by the fact that anything you can see with your human eyes, a computer can see with its computer eyes...\n",
    " \n",
    "### Objectives\n",
    "\n",
    "But more concretely, this homework will teach you (and test you on):\n",
    "\n",
    "* HTTP Requests (and lifecycle)\n",
    "* RESTful APIs\n",
    "    * Authentication (OAuth)\n",
    "    * Pagination\n",
    "    * Rate limiting\n",
    "* JSON vs. HTML (and how to parse each)\n",
    "* HTML traversal (CSS selectors)"
   ]
  },
  {
   "cell_type": "markdown",
   "metadata": {},
   "source": [
    "## Working with APIs\n",
    "\n",
    "Since everyone loves food (presumably), the ultimate end goal of this homework will be to acquire the data to answer some questions and hypotheses about the restaurant scene in Pittsburgh (which we will get to later). We will download __both__ the metadata on restaurants in Pittsburgh from the Yelp API and with this metadata, retrieve the comments/reviews and ratings from users on restaurants.\n",
    "\n",
    "But first things first, let's do the \"hello world\" of making web requests with Python to get a sense for how to programmatically access web pages: an (unauthenticated) HTTP GET to download a web page."
   ]
  },
  {
   "cell_type": "markdown",
   "metadata": {},
   "source": [
    "---"
   ]
  },
  {
   "cell_type": "markdown",
   "metadata": {},
   "source": [
    "## Q0: Basic HTTP Requests\n",
    "\n",
    "Fill in the funtion to use `requests` to download and return the raw HTML content of the URL passed in as an argument. As an example try the following NYT article (on Facebook's algorithmic news feed): [http://www.nytimes.com/2016/08/28/magazine/inside-facebooks-totally-insane-unintentionally-gigantic-hyperpartisan-political-media-machine.html](http://www.nytimes.com/2016/08/28/magazine/inside-facebooks-totally-insane-unintentionally-gigantic-hyperpartisan-political-media-machine.html)\n",
    "\n",
    "> Your function should return a tuple of: (`<status_code>`, `<raw_html>`)\n",
    "\n",
    "```python\n",
    ">>> facebook_article = retrieve_html('http://www.nytimes.com/2016/08/28/magazine/inside-facebooks-totally-insane-unintentionally-gigantic-hyperpartisan-political-media-machine.html')\n",
    ">>> print(facebook_article)\n",
    "(200, u'<!DOCTYPE html>\\n<!--[if (gt IE 9)|!(IE)]> <!--> <html lang=\"en\" class=\"no-js section-magazine...')\n",
    "```\n"
   ]
  },
  {
   "cell_type": "code",
   "execution_count": null,
   "metadata": {},
   "outputs": [],
   "source": [
    "def retrieve_html(url):\n",
    "    \"\"\"\n",
    "    Return the raw HTML at the specified URL.\n",
    "\n",
    "    Args:\n",
    "        url (string): \n",
    "\n",
    "    Returns:\n",
    "        status_code (integer):\n",
    "        raw_html (string): the raw HTML content of the response, properly encoded according to the HTTP headers.\n",
    "    \"\"\"\n",
    "    \n",
    "    # Write solution here\n",
    "    r = requests.get(url)\n",
    "    return (r.status_code, r.text)\n"
   ]
  },
  {
   "cell_type": "markdown",
   "metadata": {},
   "source": [
    "---"
   ]
  },
  {
   "cell_type": "markdown",
   "metadata": {},
   "source": [
    "Now while this example might have been fun, we haven't yet done anything more than we could with a web browser. To really see the power of programmatically making web requests we will need to interact with a API. For the rest of this homework we will be working with the [Yelp API](https://www.yelp.com/developers/documentation/v3/get_started) and Yelp data (for an extensive data dump see their [Academic Dataset Challenge](https://www.yelp.com/dataset_challenge)). The reasons for using the Yelp API are 3 fold:\n",
    "\n",
    "1. Incredibly rich dataset that combines:\n",
    "    * entity data (users and businesses)\n",
    "    * preferences (i.e. ratings)\n",
    "    * geographic data (business location and check-ins)\n",
    "    * temporal data\n",
    "    * text in the form of reviews\n",
    "    * and even images.\n",
    "2. Well [documented API](https://www.yelp.com/developers/documentation/v3/get_started) with thorough examples.\n",
    "3. Extensive data coverage so that you can find data that you know personally (from your home town/city or account). This will help with understanding and interpreting your results."
   ]
  },
  {
   "cell_type": "markdown",
   "metadata": {},
   "source": [
    "## Authentication\n",
    "\n",
    "To access the Yelp API however we will need to go through a few more steps than we did with the first NYT example. Most large web scale companies use a combination of authentication and rate limiting to control access to their data to ensure that everyone using it abides. The first step (even before we make any request) is to setup a Yelp account if you do not have one and get API credentials."
   ]
  },
  {
   "cell_type": "markdown",
   "metadata": {},
   "source": [
    "## Yelp API Access\n",
    "\n",
    "1. Create a Yelp account (if you do not have one already)\n",
    "2. [Generate API keys](https://www.yelp.com/developers/v3/manage_app) (if you haven't already). You will only need the API Key (not the Client ID or Client Secret) -- more on that later.\n"
   ]
  },
  {
   "cell_type": "markdown",
   "metadata": {},
   "source": [
    "Now that we have our accounts setup we can start making requests! There are various authentication schemes that APIs use, listed here in relative order of complexity:\n",
    "\n",
    "* No authentication\n",
    "* [HTTP basic authentication](https://en.wikipedia.org/wiki/Basic_access_authentication)\n",
    "* Cookie based user login\n",
    "* OAuth (v1.0 & v2.0, see this [post](http://stackoverflow.com/questions/4113934/how-is-oauth-2-different-from-oauth-1) explaining the differences)\n",
    "* API keys\n",
    "* Custom Authentication\n",
    "\n",
    "For the NYT example, since it is a publicly visible page we did not need to authenticate. HTTP basic authentication isn't too common for consumer sites/applications that have the concept of user accounts (like Facebook, LinkedIn, Twitter, etc.) but is simple to setup quickly and you often encounter it on with individual password protected pages/sites. I'm sure you have seen this before somewhere:\n",
    "\n",
    "![http-basic](http://i.stack.imgur.com/QnUZW.png)\n",
    "\n",
    "Cookie based user login is what the majority of services use when you login with a browser (i.e. username and password). Once you sign in to a service like Facebook, the response stores a cookie in your browser to remember that you have logged in (HTTP is stateless). Each subsequent request to the same domain (i.e. any page on `facebook.com`) also sends the cookie that contains the authentication information to remind Facebook's servers that you have already logged in.\n",
    "\n",
    "Many REST APIs however use OAuth (authentication using tokens) which can be thought of a programmatic way to \"login\" _another_ user. Using tokens, a user (or application) only needs to send the login credentials once in the initial authentication and as a response from the server gets a special signed token. This signed token is then sent in future requests to the server (in place of the user credentials).\n",
    "\n",
    "A similar concept common used by many APIs is to assign API Keys to each client that needs access to server resources. The client must then pass the API Key along with _every_ request it makes to the API to authenticate. This is because the server is typically relatively stateless and does not maintain a session between subsequent calls from the same client. Most APIs (including Yelp) allow you to pass the API Key via a special HTTP Header: \"Authorization: Bearer <API_KEY>\". Check out the [docs](https://www.yelp.com/developers/documentation/v3/authentication) for more information.\n",
    "\n",
    "Yelp used to use OAuth tokens but has now switched to API Keys. **For the sake of backwards compatibility Yelp still provides a Client ID and Secret for OAuth, but you will not need those for this assignment.** \n"
   ]
  },
  {
   "cell_type": "markdown",
   "metadata": {},
   "source": [
    "---"
   ]
  },
  {
   "cell_type": "markdown",
   "metadata": {},
   "source": [
    "## Q1: Authenticated HTTP Request with the Yelp API\n",
    "\n",
    "First, store your Yelp credentials in a local file (kept out of version control) which you can read in to authenticate with the API. This file can be any format/structure since you will fill in the function stub below.\n",
    "\n",
    "For example, you may want to store your key in a file called `api_key.txt` (run in terminal):\n",
    "```bash\n",
    "echo 'YELP_API_KEY' > api_key.txt\n",
    "```\n",
    "\n",
    "You can then read from the file using:\n",
    "```python\n",
    "with open('api_key.txt', 'r') as f:\n",
    "    api_key = f.read().replace('\\n','')\n",
    "    # use your api_key\n",
    "```\n",
    "\n",
    "**KEEP THE API KEY FILE PRIVATE AND OUT OF VERSION CONTROL**"
   ]
  },
  {
   "cell_type": "markdown",
   "metadata": {},
   "source": [
    "Using the Yelp API, fill in the following function stub to make an authenticated request to the [search](https://www.yelp.com/developers/documentation/v3/business_search) endpoint.\n",
    "\n",
    "> As a test, search for businesses in Pittsburgh. You should find ~13400 total depending on when you search (but this will actually differ from the number of actual Business objects returned... more on this in the next section)\n",
    "\n",
    "When writing the python request, you'll need to pass in a custom header as well as a parameter. See \n",
    "\n",
    "\n",
    "\n",
    "```python\n",
    ">>> api_key = read_api_key('api_key.txt')\n",
    ">>> num_records, data = yelp_search(api_key, 'Pittsburgh')\n",
    ">>> print(num_records)\n",
    "13400\n",
    ">>> print(list(map(lambda x: x['name'], data)))\n",
    "['Gaucho Parrilla Argentina', 'Randyland', 'Redhawk Coffee', 'Phipps Conservatory and Botanical Gardens', 'La Gourmandine Bakery & Pastry Shop', ...]\n",
    "```"
   ]
  },
  {
   "cell_type": "code",
   "execution_count": null,
   "metadata": {},
   "outputs": [],
   "source": [
    "def read_api_key(filepath):\n",
    "    \"\"\"\n",
    "    Read the Yelp API Key from file.\n",
    "    \n",
    "    Args:\n",
    "        filepath (string): File containing API Key\n",
    "    Returns:\n",
    "        api_key (string): The API Key\n",
    "    \"\"\"\n",
    "    \n",
    "    # feel free to modify this function if you are storing the API Key differently\n",
    "    with open('api_key.txt', 'r') as f:\n",
    "        return f.read().replace('\\n','')"
   ]
  },
  {
   "cell_type": "code",
   "execution_count": null,
   "metadata": {},
   "outputs": [],
   "source": [
    "def yelp_search(api_key, query):\n",
    "    \"\"\"\n",
    "    Make an authenticated request to the Yelp API.\n",
    "\n",
    "    Args:\n",
    "        query (string): Search term\n",
    "\n",
    "    Returns:\n",
    "        total (integer): total number of businesses on Yelp corresponding to the query\n",
    "        businesses (list): list of dicts representing each business\n",
    "    \"\"\"\n",
    "    \n",
    "    # Write solution here\n",
    "    url = 'https://api.yelp.com/v3/businesses/search'\n",
    "    payload = {'location': query}\n",
    "    headers = {'Authorization': 'Bearer {}'.format(api_key)}\n",
    "    r = requests.get(url, params=payload, headers=headers)\n",
    "    businesses = r.json()['businesses']\n",
    "    return (len(businesses), businesses)"
   ]
  },
  {
   "cell_type": "markdown",
   "metadata": {},
   "source": [
    "---"
   ]
  },
  {
   "cell_type": "markdown",
   "metadata": {},
   "source": [
    "Now that we have completed the \"hello world\" of working with the Yelp API, we are ready to really fly! The rest of the exercise will have a bit less direction since there are a variety of ways to retrieve the requested information but you should have all the component knowledge at this point to work with the API. Yelp being a fairly general platform actually has many more business than just restaurants, but by using the flexibility of the API we can ask it to only return the restaurants."
   ]
  },
  {
   "cell_type": "markdown",
   "metadata": {},
   "source": [
    "## Parameterization and Pagination\n",
    "\n",
    "And before we can get any reviews on restaurants, we need to actually get the metadata on ALL of the restaurants in Pittsburgh. Notice above that while Yelp told us that there are ~13400, the response contained far fewer actual `Business` objects. This is due to pagination and is a safeguard against returning __TOO__ much data in a single request (what would happen if there were 100,000 restaurants?) and can be used in conjuction with _rate limiting_ as well as a way to throttle and protect access to Yelp data.\n",
    "\n",
    "> If an API has 1,000,000 records, but only returns 10 records per page and limits you to 5 requests per second... how long will it take to acquire ALL of the records contained in the API?\n",
    "\n",
    "One of the ways that APIs are an improvement over plain web scraping is the ability to make __parameterized__ requests. Just like the Python functions you have been writing have arguments (or parameters) that allow you to customize its behavior/actions (an output) without having to rewrite the function entirely, we can parameterize the queries we make to the Yelp API to filter the results it returns."
   ]
  },
  {
   "cell_type": "markdown",
   "metadata": {},
   "source": [
    "---"
   ]
  },
  {
   "cell_type": "markdown",
   "metadata": {},
   "source": [
    "## Q2: Aquire all of the restaurants in Pittsburgh (on Yelp)\n",
    "\n",
    "Again using the [API documentation](https://www.yelp.com/developers/documentation/v3/business_search) for the `search` endpoint, fill in the following function to retrieve all of the _Restuarants_ (using categories) for a given query. Again you should use your `read_api_key()` function outside of the `all_restaurants()` stub to read the API Key used for the requests. You will need to account for __pagination__ and __[rate limiting](https://www.yelp.com/developers/faq)__ to:\n",
    "\n",
    "1. Retrieve all of the Business objects (# of business objects should equal `total` in the response). Paginate by querying 20 restaurants each request.\n",
    "2. Pause slightly (at least 200 milliseconds) between subsequent requests so as to not overwhelm the API (and get blocked).  \n",
    "\n",
    "As always with API access, make sure you follow all of the [API's policies](https://www.yelp.com/developers/api_terms) and use the API responsibly and respectfully.\n",
    "\n",
    "** DO NOT MAKE TOO MANY REQUESTS TOO QUICKLY OR YOUR KEY MAY BE BLOCKED **\n",
    "\n",
    "> Again, you can test your function with an individual neighborhod in Pittsburgh (I recommend Polish Hill). Pittsburgh itself has a lot of restaurants... meaning it will take a lot of time to download them all."
   ]
  },
  {
   "cell_type": "markdown",
   "metadata": {},
   "source": [
    "```python\n",
    ">>> data = all_restaurants(api_key, 'Polish Hill, Pittsburgh')\n",
    ">>> print(len(data))\n",
    "41\n",
    ">>> print(data)\n",
    "['Lili Cafe', 'Morcilla', 'Umami', 'Piccolo Forno', \"Alfred's Deli & Market\", ...]\n",
    "```"
   ]
  },
  {
   "cell_type": "code",
   "execution_count": null,
   "metadata": {},
   "outputs": [],
   "source": [
    "def all_restaurants(api_key, query):\n",
    "    \"\"\"\n",
    "    Retrieve ALL the restaurants on Yelp for a given query.\n",
    "\n",
    "    Args:\n",
    "        query (string): Search term\n",
    "\n",
    "    Returns:\n",
    "        results (list): list of dicts representing each business\n",
    "    \"\"\"\n",
    "    \n",
    "    # Write solution here\n",
    "    offset = 0\n",
    "    url = 'https://api.yelp.com/v3/businesses/search'\n",
    "    results = []\n",
    "    while True:\n",
    "        payload = {'location': query, 'offset': offset}\n",
    "        headers = {'Authorization': 'Bearer {}'.format(api_key)}\n",
    "        r = requests.get(url, params=payload, headers=headers)\n",
    "        data = r.json()\n",
    "        results += data['businesses']\n",
    "        offset += 20\n",
    "        if offset >= data['total']:\n",
    "            break\n",
    "        time.sleep(0.3)\n",
    "    return results\n",
    "\n",
    "data = all_restaurants(read_api_key('/'), 'Polish Hill, Pittsburgh')\n"
   ]
  },
  {
   "cell_type": "markdown",
   "metadata": {},
   "source": [
    "---"
   ]
  },
  {
   "cell_type": "markdown",
   "metadata": {},
   "source": [
    "Now that we have the metadata on all of the restaurants in Pittsburgh (or at least the ones listed on Yelp), we can retrieve the reviews and ratings. The Yelp API gives us aggregate information on ratings but it doesn't give us the review text or individual users' ratings for a restaurant. For that we need to turn to web scraping, but to find out what pages to scrape we first need to parse our JSON from the API to extract the URLs of the restaurants.\n",
    "\n",
    "In general, it is a best practice to seperate the act of __downloading__ data and __parsing__ data. This ensures that your data processing pipeline is modular and extensible (and autogradable ;). This decoupling also solves the problem of expensive downloading but cheap parsing (in terms of computation and time)."
   ]
  },
  {
   "cell_type": "markdown",
   "metadata": {},
   "source": [
    "---"
   ]
  },
  {
   "cell_type": "markdown",
   "metadata": {},
   "source": [
    "## Q 2.5: Parse the API Responses and Extract the URLs\n",
    "\n",
    "Because we want to seperate the __downloading__ from the __parsing__, fill in the following function to parse the URLs pointing to the restaurants on `yelp.com`. As input your function should expect a string of [properly formatted JSON](http://www.json.org/) (which is similar to __BUT__ not the same as a Python dictionary) and as output should return a Python list of strings. The input JSON will be structured as follows (same as the [sample](https://www.yelp.com/developers/documentation/v3/business_search) on the Yelp API page):\n",
    "\n",
    "```json\n",
    "{\n",
    "  \"total\": 8228,\n",
    "  \"businesses\": [\n",
    "    {\n",
    "      \"rating\": 4,\n",
    "      \"price\": \"$\",\n",
    "      \"phone\": \"+14152520800\",\n",
    "      \"id\": \"four-barrel-coffee-san-francisco\",\n",
    "      \"is_closed\": false,\n",
    "      \"categories\": [\n",
    "        {\n",
    "          \"alias\": \"coffee\",\n",
    "          \"title\": \"Coffee & Tea\"\n",
    "        }\n",
    "      ],\n",
    "      \"review_count\": 1738,\n",
    "      \"name\": \"Four Barrel Coffee\",\n",
    "      \"url\": \"https://www.yelp.com/biz/four-barrel-coffee-san-francisco\",\n",
    "      \"coordinates\": {\n",
    "        \"latitude\": 37.7670169511878,\n",
    "        \"longitude\": -122.42184275\n",
    "      },\n",
    "      \"image_url\": \"http://s3-media2.fl.yelpcdn.com/bphoto/MmgtASP3l_t4tPCL1iAsCg/o.jpg\",\n",
    "      \"location\": {\n",
    "        \"city\": \"San Francisco\",\n",
    "        \"country\": \"US\",\n",
    "        \"address2\": \"\",\n",
    "        \"address3\": \"\",\n",
    "        \"state\": \"CA\",\n",
    "        \"address1\": \"375 Valencia St\",\n",
    "        \"zip_code\": \"94103\"\n",
    "      },\n",
    "      \"distance\": 1604.23,\n",
    "      \"transactions\": [\"pickup\", \"delivery\"]\n",
    "    }\n",
    "  ],\n",
    "  \"region\": {\n",
    "    \"center\": {\n",
    "      \"latitude\": 37.767413217936834,\n",
    "      \"longitude\": -122.42820739746094\n",
    "    }\n",
    "  }\n",
    "}\n",
    "```"
   ]
  },
  {
   "cell_type": "code",
   "execution_count": null,
   "metadata": {},
   "outputs": [],
   "source": [
    "def parse_api_response(data):\n",
    "    \"\"\"\n",
    "    Parse Yelp API results to extract restaurant URLs.\n",
    "    \n",
    "    Args:\n",
    "        data (string): String of properly formatted JSON.\n",
    "\n",
    "    Returns:\n",
    "        (list): list of URLs as strings from the input JSON.\n",
    "    \"\"\"\n",
    "    \n",
    "    # Write solution here\n",
    "    result = []\n",
    "    data_decoded = json.loads(data)\n",
    "    for x in data_decoded['businesses']:\n",
    "        result.extend([x['url'], x['image_url']])\n",
    "    return result\n"
   ]
  },
  {
   "cell_type": "markdown",
   "metadata": {},
   "source": [
    "---"
   ]
  },
  {
   "cell_type": "markdown",
   "metadata": {},
   "source": [
    "As we can see, JSON is quite trivial to parse (which is not the case with HTML as we will see in a second) and work with programmatically. This is why it is one of the most ubiquitous data serialization formats (especially for ReSTful APIs) and a huge benefit of working with a well defined API if one exists. But APIs do not always exists or provide the data we might need, and as a last resort we can always scrape web pages..."
   ]
  },
  {
   "cell_type": "markdown",
   "metadata": {},
   "source": [
    "## Working with Web Pages (and HTML)\n",
    "\n",
    "Think of APIs as similar to accessing a application's database itself (something you can interactively query and receive structured data back). But the results are usually in a somewhat raw form with no formatting or visual representation (like the results from a database query). This is a benefit _AND_ a drawback depending on the end use case. For data science and _programatic_ analysis this raw form is quite ideal, but for an end user requesting information from a _graphical interface_ (like a web browser) this is very far from ideal since it takes some cognitive overhead to interpret the raw information. And vice versa, if we have HTML it is quite easy for a human to visually interpret it, but to try to perform some type of programmatic analysis we first need to parse the HTML into a more structured form.\n",
    "\n",
    "> As a general rule of thumb, if the data you need can be accessed or retrieved in a structured form (either from a bulk download or API) prefer that first. But if the data you want (and need) is not as in our case we need to resort to alternative (messier) means.\n",
    "\n",
    "Going back to the \"hello world\" example of question 1 with the NYT, we will do something similar to retrieve the HTML of the Yelp site itself (rather than going through the API) programmatically as text. "
   ]
  },
  {
   "cell_type": "markdown",
   "metadata": {},
   "source": [
    "---"
   ]
  },
  {
   "cell_type": "markdown",
   "metadata": {},
   "source": [
    "## Q3: Parse a Yelp restaurant Page\n",
    "\n",
    "Using `BeautifulSoup`, parse the HTML of a single Yelp restaurant page to extract the reviews in a structured form as well as the URL to the next page of reviews (or `None` if it is the last page). Fill in following function stubs to parse a single page of reviews and return:\n",
    "* the reviews as a structured Python dictionary\n",
    "* the HTML element containing the link/url for the next page of reviews (or None).\n",
    "\n",
    "For each review be sure to structure your Python dictionary as follows (to be graded correctly). The order of the keys doesn't matter, only the keys and the data type of the values:\n",
    "\n",
    "```python\n",
    "{\n",
    "    'review_id': str\n",
    "    'user_id': str\n",
    "    'rating': float\n",
    "    'date': str ('yyyy-mm-dd')\n",
    "    'text': str\n",
    "}\n",
    "\n",
    "# Example\n",
    "{\n",
    "    'review_id': '12345'\n",
    "    'user_id': '6789'\n",
    "    'rating': 4.7\n",
    "    'date': '2016-01-23'\n",
    "    'text': \"Wonderful!\"\n",
    "}\n",
    "```\n",
    "\n",
    "> There can be issues with Beautiful Soup using various parsers, for maximum conpatibility (and fewest errors) initialize the library with the default (and Python standard library parser): `BeautifulSoup(markup, \"html.parser\")`"
   ]
  },
  {
   "cell_type": "code",
   "execution_count": 18,
   "metadata": {},
   "outputs": [
    {
     "name": "stdout",
     "output_type": "stream",
     "text": [
      "[{'review_id': 'x2FL8Lpd_LfwiDpM08XhIA', 'user_id': 'mvctJz6ZKg5YRdFfnsUErA', 'rating': '5.0', 'date': '2/27/2019', 'text': 'I was there last night with a few friends and we absolutely loved it! I had gotten take out a few times before and on both occasions the pizzas were outstanding.Eating in the restaurant was a truly enjoyable experience as the staff is incredibly friendly - especially our server, Nico. They have done an amazing job with the interior. We loved every minute!I will definitely be back as I live right next door.Thank you!'}, {'review_id': 'DAuQfE8jB4ETqi-TrU0W3g', 'user_id': '8009a15Ow6ryqfJQueNYPA', 'rating': '5.0', 'date': '2/13/2019', 'text': 'Not one bad thing to say about this new place. 1) great pizza/flatbreads2) great service and staff3) beautiful remodel 4) addicted 5) so glad Cybells is gone 6) give them your service and help the hood'}, {'review_id': 'zOlrPCq3cj9lMc0RT1eMsA', 'user_id': 'CSfjaTVpxugpRNEd0RtsxQ', 'rating': '5.0', 'date': '2/12/2019', 'text': 'How can one even resist when they tell you  how much healthier Pinsa is over Pizza that it has:LESS SUGAR, LESS FAT, LESS CHOLESTEROL and  HIGHLY DIGESTIBLE how can you not want to try a lighter option which gives you the satisfying pizza taste. This place is across the street from where I get my nails done. It\\'s 2 blocks from where I live so when a cute place appears nice and clean it stands out in the neighborhood, I just had to check it out. Pinsa is a flat bread eaten by peasants outside the gates of imperial Rome, a hearty dough used as plate and utensil, made from whatever grains were on hand. Gusto has a welcoming vibe, great staff and most especially wonderful pinsas! My go to orders are Margherita and Marina the classics and PARMA -  with prosciutto and mozzarella and I add   garlic in all my pinsas! Just delicious. Flaky crust with crunchy ends. Bad for my trying to do \"keto\" but at least it\\'s a healthier option than pizza. Love the restaurant they have beer on tap and wine. So cozy. My first time here I got a complimentary berry muffin delicious! Must try!'}, {'review_id': 'apIRZlR9lCgzCLZZoVAQPA', 'user_id': '3W2LsQQb2STi-bBCjrHJkA', 'rating': '5.0', 'date': '2/27/2019', 'text': 'I stopped in tonight for a to go order and this hit the spot. Been sending everyone I know this photo. Thank you for bringing fantastic food to the neighborhood!!'}, {'review_id': 'axmpEGYdM3aGLMbd0Om9cQ', 'user_id': 'KUGKQRE-Ywi5dY55_zChg', 'rating': '5.0', 'date': '12/13/2018', 'text': 'Six months ago, I told myself, \"NO MORE CARBS\". I did [kinda] well the first 6 weeks....Then one night, I was watching The Food Network and a pastry competition came on. I don\\'t even care for pastries but all of a sudden, I had an urge to smash through every pastry case in the city and inhale croissants, danishes, strudels, tarts, pies, and any carblicious thing I could get my grubby hands on.Orange is not the new black for me so I decided I would just try to stick with healthier carbs instead of a full on restriction. But, what the hell do you do when you\\'re craving pizza? Wheat crust is whacked and cauliflower crust makes my arse sing. This is where Pinsa comes in...If you\\'re watching your carbs too but crave pizza, look no further than Gusto Pinsa Romana!Opening last Saturday, Gusto is the third Pinseria to open in the SF Bay Area serving Roman-style flatbreads that are a great healthy alternative to pizza without sacrificing the taste and texture of the real deal. It\\'s lower in carbs, sugar, fat, and calories and it\\'s highly digestible so it won\\'t spike your blood sugar (no food coma afterwards!): bit.ly/2EgP2Sq. Vegetarian and vegan friendly (they have vegan cheese!). Cafe by morning, Gusto starts serving pinsas at 11 am. It\\'s great if you can make it out there for lunch because it\\'s a small space and once word gets out, Gusto is going to be packed!I ordered the Montanara Pinsa w/ mozzarella, pecorino, guanciale, mushroom, truffle oil, black pepper, and parsley ($18) which was deliciously satisfying: bit.ly/2SG0I56.The pinsa crust is crisp, perfectly light, nicely chewy, and flavorful from the truffle oil: bit.ly/2EtjHgo.The melty cheese was fresh and stretchy, and the crispy guanciale added a tasty pork richness without an overwhelming saltiness (ahem bacon or pancetta). If you like heat, there\\'s a chili pepper grinder on the table to doctor up your pinsa. I ate half of my pinsa and was full so it\\'s a perfect meal for two with a side salad. Service was incredibly warm, friendly, and customer oriented. My server, Daniel was awesome, as well as, the other staff I chatted with. The owner (?) told me the little touches they use that make their pinsa different from Montesacro off 6th street. They make great pinsa too but the service is like night and day compared to Gusto.While the space is small, the owner(s) have done an amazing job transforming the former Cybelle\\'s Pizza space. It\\'s now bright and modern with a beautiful espresso/wine bar and motif tiles. I was also jocking their restroom wallpaper. There\\'s seating for 14 inside and two dog-friendly tables outside (hooray!).  As a neighborhood restaurant, Gusto is the perfect package - delicious pinsa, fantastic service, and gorgeous, cozy space! Too bad I live at the other end of SF, otherwise Tater Tot and I would be regular customers at Gusto. I\\'m sure my wallet (and thunder thighs) is happy though...'}, {'review_id': 'oZuP5zeHVKJ2gohyJ8lCzQ', 'user_id': 'oJMAlaZ5iSzw9d2IfgqnOA', 'rating': '4.0', 'date': '1/27/2019', 'text': 'Gusto Pinsa Romana offers a cozy, lovely ambiance for an enjoyable pizza experience. The pizza tastes great for its notable fluffiness of its crust (almost bread-y) and the wealth of cheese on it. We tried the classic margarita pizza and the tropea pizza which had anchovies, zucchini, and capers. While the balance of cheese, crust, and vegetables across our pizzas put smiles on our faces, as a tomato-sauce lover I would have liked he red sauced pizzas to balance that savory taste in the pizzas. A bottle of red blend wine, 1448, complemented the pizzas perfectly with its peppery Tempranillo-like quality without too much tannins.Gusto Pinsa is tucked away in a narrow slice of building and seems to only accommodate no more than 20 people. The staff attentively ensured we received our meal quickly and asked us several times how we were enjoying our meal. We were even told if we were waiting for another guest we should go ahead an order because the pizza could take a while to make - though it came out so quickly that we actually felt rushed to free up space in the establishment.All in all, Gusto Pinsa Romano satisfies the classic pizza urges that so many people no doubt have.'}, {'review_id': 'Ms3erTZX5qVbkBrvxrMYKg', 'user_id': '7aIdnWESjTanCBZtpGcQWA', 'rating': '5.0', 'date': '1/9/2019', 'text': \"This is one of my favorite restaurants in the area. Their pizza or pinsa are very tasty and unique. They have a good selection of beers and wines as well. I like how clean and friendly they are. What I like the most is that I don't feel like eating junk food like regular pizza. I actually feel like eating something healthy.\"}, {'review_id': '729fA4Toji0t2w_vrewYBA', 'user_id': 'Zp49UjCo9o83FxK8IFlLAg', 'rating': '5.0', 'date': '1/13/2019', 'text': \"I ate here on New Years Eve and OMG my socks were blown away. I think this is the best pizza/pinsa I have ever had!! I came with friends, so I got to try different flavors. We had the Napoli, Montanara, and the Mortazza. Each of them had their own uniquely delicious flavor, particularly the Mortazza. It was deliciously creamy with Mortdadella, unlike anything I have ever had.But let's talk about the crust! Omg it's so delicious, airy and crispy at the same time. I am not usually a crust person, but I could eat this just as plain bread. That is how good it is. On top of all the delicious flavor, the crust is healthier than other pizzas! 48% less sugar, 85% less fat, 100% less cholesterol, 33% less calories. Talk about a dream come true! I cannot wait to come back and try more!! This is definitely worth the 5 stars, and I highly recommend you check this out if you're in the area.\"}, {'review_id': 'nMOJvSTDaBucf5w8uMxiFQ', 'user_id': 'IptaemT_DDw5o1xjZoS7vQ', 'rating': '5.0', 'date': '1/27/2019', 'text': \"I never give reviews, but that was one of the best pizza or pinsa experiences I have ever had! I went to get a pinsa to-go and ended up eating 2/3s of it there. I ate the Dolce and Salato which had mozzarella, pears, Gorgonzola cheese, walnuts and then honey fizzled on the top. Wow, how different and how lovely it all was together. That sweet and salty combination was to die for. The highlight is the crust. It's made with some technique from Rome that makes the dough extremely light and you don't feel like you have eat something extremely heavy.On top of all this, the staff was extremely nice and welcoming. Especially, what I assumed to be was the head chef. His passion and excitement about the food and the people that eat it is visible. When he found out I was a vegetarian, they let me know that they are changing the an already inclusive menu to be even more inclusive to those that are vegetarian and vegan. What else could you ask for from food! Everyone must go.\"}, {'review_id': 'N5EYAXIuECdCTSGZZ_D-PQ', 'user_id': '4EAktddV_eS8g1PlrMXpyA', 'rating': '5.0', 'date': '2/18/2019', 'text': \"Tried the quatro formaagi and added lamb sausage which was amazing and had a spicy kick! My friend tried the margharita pizza (not sure if I spelled it right) but both were soooo good! I came from sac after having this place recommended to me by a friend. Customer service was great! I will definitely be back next time I'm in the city!\"}, {'review_id': 'DjHK0zvt1_L6swbwpRajLA', 'user_id': 'Mn7wkivl82sjv0-H6wlpw', 'rating': '4.0', 'date': '12/30/2018', 'text': \"New to the neighbourhood and a lovely change of pace, Gusto boasts a robust menu full of options suitable for meat eaters and vegans alike, which is appreciated! In the morning they have a full coffee and pastry program, and then they close in the afternoon to prep and reopen for dinner service (a brilliant way to utilise the space). I'd say the only reason I didn't give a full 5 stars was mostly because the wait time for two takeout pizzas was quite awhile, but this is presumably because they had a rush of dine-in customers pop up around the same time as I'd ordered. Also, I was super bummed after walking home to see that the mushrooms I'd requested to add to my marinara pizza were totally absent. By the time I'd seen this though it seemed like too much trouble to make the trip back. The marinara was still delicious, but probably would've been even more amazing with the mushrooms\"}, {'review_id': 'NisXvuxCGBSEKp6hKCGjXQ', 'user_id': 'UE-HsnPnvFB_ew3pxu3euA', 'rating': '4.0', 'date': '1/9/2019', 'text': \"I was craving for cheese at 9:50 at night and decided to walk down the road to the newly opened restaurant which happened to be a Pizza place. Given that it was 9:50PM and most restaurants were closed (I wanted pasta) I settled for a pizza and I am glad I did. We entered the restaurant and fell in love with the interior of it right away, place is not big but the way they maximized the area stylishly made it beautiful. We were greeted by very friendly staff and a lady who we presumed to be the owner. We ordered the Quattro formaggi and it was made fresh right after we ordered. The size of the pizza is good enough for two people with a regular appetite and the ingredients used were of top quality. I love that they did not scrimp on the cheese. Only reason I did not give it a 5 star is I wish they would expand their menu, other than that I love everything about this place and can't wait to go back!\"}, {'review_id': 'r_fFbrue9xF1UwPdUs8vsQ', 'user_id': 'T95ExA3bDv6Ihi7Wg2fl8Q', 'rating': '5.0', 'date': '12/12/2018', 'text': \"We came here for dinner last night & were not disappointed!! I love the decor inside very clean & Roman looking. Beautiful kitchen you can see the cooks preparing your Pinsa as you watch.We started with the prosciutto e pera salad. It's a bed of arugula topped with prosciutto and thinly sliced pears along with gorgonzola cheese & walnuts with a balsamic vinegar dressing. The flavors were delicious & light to start. Then we were onto try the pinsa. I was talking with one of the cooks who works here & came over from Italy. He was telling me about the Pinsa dough he said it's typical Roman food but it's very hard to find a place even in Italy that makes the Pinsa dough correctly. It takes 48-72 hours to rise and most restaurants want it faster so they don't allow it the proper amount of time to rise. Here he is the one making the pinsa. He said allowing it to rise is worth it because it changes the flavor completely. Pinsa tastes so much different than pizza. I normally do not like the crust but this crust was amazing. It's nice and crispy on the outside but smooth on the inside. We tried the Parma, Quattro formaggi & Triple P pinsa's. I loved each one for different reasons. The Parma has amazing buffalo mozzarella that is so creamy & salty I wanted to eat just that with bread. The Quattro Formaggi was amazing because if you're a cheese lover... it has four different types of cheese and the flavors are amazing. The triple P has potatoes thinly sliced, pesto & crispy prosciutto, flavors that I had never tried before but were super good!! We got a cannoli to finish with chocolate and cherries on it. The cannoli was super crispy and flavorful & the cream was amazing! We got two pastries to go to try out in the morning. (They are a pastry & coffee shop by morning & pinsa at night). They have a full espresso bar and tons of fresh pastries available for purchase. This spot was full when we came. But it was a quick wait. You can also order your food to go. One of the owners is a good friend of mine. She & her family are running the business. They are a very kind & hospitable family. I love that this is a family owned business. I can't wait to come back & try more of their menu.\"}, {'review_id': 'IhaJ7SL_QKMeA5L23TAydQ', 'user_id': '2FnOLFC86Hwzy1KM2Y0s2Q', 'rating': '5.0', 'date': '2/25/2019', 'text': \"My mom and I visiting from out of town and came here after realizing Too of the Mark is closed during lunch.  This was the best pizza and salad we've ever had!!! Love this place and will come back next time we are in SF\"}, {'review_id': 'QgSgcHWXBbxZrBDIFOnzVg', 'user_id': 'xSXecNcNSdgvBwYpiSNcNw', 'rating': '2.0', 'date': '2/3/2019', 'text': \"Pizza too cheesy, you bury the ingredients in that. Crust under-cooked as well. Caesar salad would have been better with a different lettuce presentation, and you need to throw down knives if the lettuce is gonna be cut like a ribbon. Also what's with the baby forks?My suggestion, tweak some things or you'll be outta business before you know it. QUIT pandering to american tastes, Italians would be horrified with your shtick.\"}, {'review_id': 'Bl5kVfNOv9yN4hy0GOzN7A', 'user_id': 'URIW-QxqFnV7S7nd1HAhw', 'rating': '5.0', 'date': '2/9/2019', 'text': \"Couldn't be happier with our dining experience tonight at Gusto. Everything was top-notch from the warm, inviting service, to the delicious caprese salad, pinsas and Sauvignon Blanc on tap! We had the parmigiana and cotto & funghi pinsas. Admittedly, this was my first ever pinsa experience (yes apparently I'm behind on this one). I was blown away by how fresh and airy the pinsa dough was. I'm so sold on it, I'm not sure I will be able to eat pizza again, in fact. I also hear their coffee is amazing. I look forward to stopping by for breakfast treats and a latte sometime soon. And of course will be back to try more pinsa!\"}, {'review_id': '7Ebw7eUS3NFoKw2r1XTpcg', 'user_id': '7bF7ffjY6IP3ORFfTESTNA', 'rating': '2.0', 'date': '1/25/2019', 'text': \"Pinsa must mean pinch ya !!  These people are Hella pinching .. Buncha pinchers.i asked about organic items and the chef replies that his meat item is gluten free.. Well duh.. But not relevant... Then I ask for mushroom recommendation , I'm told to get the cheese pinsa because it would be more natural... They say they will add mushrooms.. I see the receipt and dont see them added they say don't worry we willI sit for like 20min, finally pinsa comes out. Lo and behold no mushrooms...Lady says sorry she forgot.The whole time I'm sitting for 20min I'm being harassed about taking a table for 4 because some giant crowd is supposedly coming , which never manifestsI accidentally drop a five on the ground next to my table the same shystie waitress comes by grabs it looks at me and runs it over to her tip jar..Jeez... New business, spent hella on remodel rent probably sky high like $3/sq.ft.. These ppl have massive massive profit margin and they are pinching the hell out of me... I spend over $30 on a personal sized cheese pinsa and a beer...is that not enough??   How much does flour cost? A little cheese.. Oh and get this... No sauce!!!  These people put a couple little marble sized dollops of sauce on the pizza... It was so bland each bite til you finally get to a dollop of sauce.. Chinsiest pizza I've ever had, I have never seen some ration tomato sauce... This is patheticAt the end...No discount offered , just a pinch to remind me to come back again and order something different... Enough is enough.  Greedy shady business here.  I don't care how good their dough is.  It's not worth my dough.\"}, {'review_id': 'OZIAOoj2Kv9VQmm1NFndYw', 'user_id': 'F8ObA8Nxe4JBdfhDdvv2Q', 'rating': '4.0', 'date': '2/3/2019', 'text': \"Very cute place. The interior is fairly small but very pleasant. We were able to sit together as a group of 6, but I don't think larger groups would work as well. (it was tight with six). We tried several of the pinsas, which were reasonably priced and of good size. The highlight was the gorgonzola with pears. I thought the pinsas were all solid, but I assumed there would be fresh mozzarella used for the cheese (which is fairly standard for margherita pizzas). However, it seemed like the cheese was made from a different form of mozzarella (perhaps shredded?). The other slight disappointment was the margherita pizza had very little sauce. The lack of sauce meant that the cheese was a bit overwhelming.Overall, I enjoyed this place and think its a great addition to San Francisco. There are a couple kinks which maybe they can work on, as I saw other reviews also mentioned the lack of sauce in the margherita.\"}, {'review_id': 'NxDU63zmqyj2ojdWj_6ImQ', 'user_id': 'w4bRESdAlaXxtAd6hDMP-w', 'rating': '5.0', 'date': '2/23/2019', 'text': \"Dinner here is amazing! We had a group of 5. Tried 3 salads Caesar, Caprese & Arugula. All really great! Shared 2 pizza's. It was the best crust I have ever eaten. Fluffy and light. Never had better pizza even in Italy! A must try! Will come again on my next trip!\"}, {'review_id': 'LE5O8pfUgEUh7UVivT-Zvw', 'user_id': 'c-pnORQO-uUnab-j4clObw', 'rating': '5.0', 'date': '1/16/2019', 'text': \"I've walked past this place several times and have always wanted to stop by and check it out. So...in the last two weeks, I went twice. :D They do Roman-style pizzas, aka pinsas. And the crust is absolutely amazing. My fave one is the Montanara, which is topped with pork cheek, mushrooms, and truffle oil. Space is small, can seat about 10 people max, but super cute and bright. Great to pick up and bring home for a night in or for a quick bite if tables are available. Really friendly service and fantastic food. Definitely a neighborhood (and overall city) favorite!\"}]\n"
     ]
    }
   ],
   "source": [
    "def parse_page(html):\n",
    "    \"\"\"\n",
    "    Parse the reviews on a single page of a restaurant.\n",
    "    \n",
    "    Args:\n",
    "        html (string): String of HTML corresponding to a Yelp restaurant\n",
    "\n",
    "    Returns:\n",
    "        tuple(list, string): a tuple of two elements\n",
    "            first element: list of dictionaries corresponding to the extracted review information\n",
    "            second element: URL for the next page of reviews (or None if it is the last page)\n",
    "    \"\"\"\n",
    "    \n",
    "    # Write solution here\n",
    "    reviews = []\n",
    "    soup = BeautifulSoup(html, 'html.parser')\n",
    "    next_soup = soup.find('link', rel='next')\n",
    "    next_url = next_soup['href'] if next_soup else None\n",
    "    review_list = soup.find_all('div', class_='review review--with-sidebar')\n",
    "    for review in review_list:\n",
    "        review_d = {}\n",
    "        review_d['review_id'] = review['data-review-id']\n",
    "        review_d['user_id'] = review['data-signup-object'].strip('user_id:')\n",
    "        review_d['rating'] = review.find('img', class_='offscreen')['alt'].strip(' star rating')\n",
    "        review_d['date'] = review.find('span', class_='rating-qualifier').string.strip()\n",
    "        review_d['text'] = review.find('p').text.replace(u'\\xa0', u' ')\n",
    "        reviews.append(review_d)\n",
    "    return (reviews, next_url)\n",
    "\n",
    "page='https://www.yelp.com/biz/gusto-pinsa-romana-san-francisco'\n",
    "html=requests.get(page).content\n",
    "print(parse_page(html)[0])\n"
   ]
  },
  {
   "cell_type": "markdown",
   "metadata": {},
   "source": [
    "---"
   ]
  },
  {
   "cell_type": "markdown",
   "metadata": {},
   "source": [
    "## Q 3.5: Extract all of the Yelp reviews for a Single Restaurant\n",
    "\n",
    "So now that we have parsed a single page, and figured out a method to go from one page to the next we are ready to combine these two techniques and actually crawl through web pages! \n",
    "\n",
    "Using `requests`, programmatically retrieve __ALL__ of the reviews for a __single__ restaurant (provided as a parameter). Just like the API was paginated, the HTML paginates its reviews (it would be a very long web page to show 300 reviews on a single page) and to get all the reviews you will need to parse and traverse the HTML. As input your function will receive a URL corresponding to a Yelp restaurant. As output return a list of dictionaries (structured the same as question 3) containing the relevant information from the reviews.\n",
    "\n",
    "```python\n",
    ">>> data = extract_reviews('https://www.yelp.com/biz/the-porch-at-schenley-pittsburgh')\n",
    ">>> print len(data)\n",
    "513\n",
    ">>> print data[0]\n",
    "{\n",
    "    'text': \"I've only had the pizza at the Porch, so this 4 stars is for the pizza! This is a great place to come, especially for their late-night half-off pizza special during the weekdays. I've looked at their non-pizza menu and it's a bit pricey, but from what other people tell me, the other food is great. The pizza is more than large enough to feed one person, but my friends and I usually split a couple between us so we can have different flavors. My favorites is the Piggie Pie, but I also had another seasonal pizza with goat cheese and fig on it, which was also extremely good! The crust is nice and crunchy on the outside, but soft enough on the inside, and the ratio of sauce-to-crust is perfect. Overall, this is a fabulous spot to come to if you're a student in Oakland looking for a late-night snack, or a non-student who wants a classier spot to eat at in Oakland. Will be back again!\", \n",
    "    'date': '12/22/2017', \n",
    "    'user_id': 'SoItWLyIQUKtp8_SvQRMFg', \n",
    "    'review_id': '5-Qhk9s94w7eHICF2Fhk7Q', \n",
    "    'rating': 4.0\n",
    "}\n",
    "```"
   ]
  },
  {
   "cell_type": "code",
   "execution_count": 20,
   "metadata": {},
   "outputs": [
    {
     "name": "stdout",
     "output_type": "stream",
     "text": [
      "{'review_id': 'x2FL8Lpd_LfwiDpM08XhIA', 'user_id': 'mvctJz6ZKg5YRdFfnsUErA', 'rating': '5.0', 'date': '2/27/2019', 'text': 'I was there last night with a few friends and we absolutely loved it! I had gotten take out a few times before and on both occasions the pizzas were outstanding.Eating in the restaurant was a truly enjoyable experience as the staff is incredibly friendly - especially our server, Nico. They have done an amazing job with the interior. We loved every minute!I will definitely be back as I live right next door.Thank you!'}\n"
     ]
    }
   ],
   "source": [
    "def extract_reviews(url):\n",
    "    \"\"\"\n",
    "    Retrieve ALL of the reviews for a single restaurant on Yelp.\n",
    "\n",
    "    Parameters:\n",
    "        url (string): Yelp URL corresponding to the restaurant of interest.\n",
    "\n",
    "    Returns:\n",
    "        reviews (list): list of dictionaries containing extracted review information\n",
    "    \"\"\"\n",
    "    # Write solution here\n",
    "    reviews = []\n",
    "    while url:\n",
    "        html = requests.get(url).content\n",
    "        cur_reviews, next_url = parse_page(html)\n",
    "        reviews.extend(cur_reviews)\n",
    "        url = next_url\n",
    "    return reviews\n",
    "\n",
    "data = extract_reviews('https://www.yelp.com/biz/gusto-pinsa-romana-san-francisco')\n",
    "print(data[0])\n"
   ]
  },
  {
   "cell_type": "code",
   "execution_count": null,
   "metadata": {},
   "outputs": [],
   "source": []
  }
 ],
 "metadata": {
  "anaconda-cloud": {},
  "kernelspec": {
   "display_name": "Python 3",
   "language": "python",
   "name": "python3"
  },
  "language_info": {
   "codemirror_mode": {
    "name": "ipython",
    "version": 3
   },
   "file_extension": ".py",
   "mimetype": "text/x-python",
   "name": "python",
   "nbconvert_exporter": "python",
   "pygments_lexer": "ipython3",
   "version": "3.7.1"
  }
 },
 "nbformat": 4,
 "nbformat_minor": 1
}
